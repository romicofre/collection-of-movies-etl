{
 "cells": [
  {
   "cell_type": "markdown",
   "metadata": {},
   "source": [
    "# Análisis de archivo de películas"
   ]
  },
  {
   "cell_type": "code",
   "execution_count": 2,
   "metadata": {},
   "outputs": [],
   "source": [
    "import pandas as pd"
   ]
  },
  {
   "cell_type": "code",
   "execution_count": 3,
   "metadata": {},
   "outputs": [],
   "source": [
    "movies_df = pd.read_csv('../MoviesOnStreamingPlatforms_updated.csv')"
   ]
  },
  {
   "cell_type": "code",
   "execution_count": 9,
   "metadata": {},
   "outputs": [
    {
     "name": "stdout",
     "output_type": "stream",
     "text": [
      "<class 'pandas.core.frame.DataFrame'>\n",
      "RangeIndex: 16744 entries, 0 to 16743\n",
      "Data columns (total 17 columns):\n",
      "Unnamed: 0         16744 non-null int64\n",
      "ID                 16744 non-null int64\n",
      "Title              16744 non-null object\n",
      "Year               16744 non-null int64\n",
      "Age                7354 non-null object\n",
      "IMDb               16173 non-null float64\n",
      "Rotten Tomatoes    5158 non-null object\n",
      "Netflix            16744 non-null int64\n",
      "Hulu               16744 non-null int64\n",
      "Prime Video        16744 non-null int64\n",
      "Disney+            16744 non-null int64\n",
      "Type               16744 non-null int64\n",
      "Directors          16018 non-null object\n",
      "Genres             16469 non-null object\n",
      "Country            16309 non-null object\n",
      "Language           16145 non-null object\n",
      "Runtime            16152 non-null float64\n",
      "dtypes: float64(2), int64(8), object(7)\n",
      "memory usage: 2.2+ MB\n"
     ]
    }
   ],
   "source": [
    "movies_df.info()"
   ]
  },
  {
   "cell_type": "code",
   "execution_count": 13,
   "metadata": {},
   "outputs": [
    {
     "data": {
      "text/plain": [
       "112"
      ]
     },
     "execution_count": 13,
     "metadata": {},
     "output_type": "execute_result"
    }
   ],
   "source": [
    "# maximo largo de la columna title\n",
    "movies_df.Title.str.len().max()"
   ]
  },
  {
   "cell_type": "code",
   "execution_count": 14,
   "metadata": {},
   "outputs": [
    {
     "data": {
      "text/plain": [
       "1"
      ]
     },
     "execution_count": 14,
     "metadata": {},
     "output_type": "execute_result"
    }
   ],
   "source": [
    "movies_df.Netflix.max()"
   ]
  },
  {
   "cell_type": "code",
   "execution_count": 15,
   "metadata": {},
   "outputs": [
    {
     "data": {
      "text/plain": [
       "0"
      ]
     },
     "execution_count": 15,
     "metadata": {},
     "output_type": "execute_result"
    }
   ],
   "source": [
    "movies_df.Netflix.min()"
   ]
  },
  {
   "cell_type": "code",
   "execution_count": 31,
   "metadata": {},
   "outputs": [
    {
     "data": {
      "text/plain": [
       "array([1, 0])"
      ]
     },
     "execution_count": 31,
     "metadata": {},
     "output_type": "execute_result"
    }
   ],
   "source": [
    "movies_df.Netflix.unique()"
   ]
  },
  {
   "cell_type": "code",
   "execution_count": 16,
   "metadata": {},
   "outputs": [
    {
     "data": {
      "text/plain": [
       "0"
      ]
     },
     "execution_count": 16,
     "metadata": {},
     "output_type": "execute_result"
    }
   ],
   "source": [
    "movies_df.Type.max()"
   ]
  },
  {
   "cell_type": "code",
   "execution_count": 17,
   "metadata": {},
   "outputs": [
    {
     "data": {
      "text/plain": [
       "0"
      ]
     },
     "execution_count": 17,
     "metadata": {},
     "output_type": "execute_result"
    }
   ],
   "source": [
    "movies_df.Type.min()"
   ]
  },
  {
   "cell_type": "code",
   "execution_count": 25,
   "metadata": {},
   "outputs": [
    {
     "data": {
      "text/plain": [
       "3.0"
      ]
     },
     "execution_count": 25,
     "metadata": {},
     "output_type": "execute_result"
    }
   ],
   "source": [
    "movies_df.Directors.str.len().min()"
   ]
  },
  {
   "cell_type": "code",
   "execution_count": 24,
   "metadata": {},
   "outputs": [
    {
     "data": {
      "text/plain": [
       "438.0"
      ]
     },
     "execution_count": 24,
     "metadata": {},
     "output_type": "execute_result"
    }
   ],
   "source": [
    "movies_df.Directors.str.len().max()"
   ]
  },
  {
   "cell_type": "code",
   "execution_count": 26,
   "metadata": {},
   "outputs": [
    {
     "data": {
      "text/plain": [
       "3.0"
      ]
     },
     "execution_count": 26,
     "metadata": {},
     "output_type": "execute_result"
    }
   ],
   "source": [
    "movies_df.Genres.str.len().min()"
   ]
  },
  {
   "cell_type": "code",
   "execution_count": 27,
   "metadata": {},
   "outputs": [
    {
     "data": {
      "text/plain": [
       "67.0"
      ]
     },
     "execution_count": 27,
     "metadata": {},
     "output_type": "execute_result"
    }
   ],
   "source": [
    "movies_df.Genres.str.len().max()"
   ]
  },
  {
   "cell_type": "code",
   "execution_count": 29,
   "metadata": {},
   "outputs": [
    {
     "data": {
      "text/plain": [
       "4.0"
      ]
     },
     "execution_count": 29,
     "metadata": {},
     "output_type": "execute_result"
    }
   ],
   "source": [
    "movies_df.Country.str.len().min()"
   ]
  },
  {
   "cell_type": "code",
   "execution_count": 30,
   "metadata": {},
   "outputs": [
    {
     "data": {
      "text/plain": [
       "218.0"
      ]
     },
     "execution_count": 30,
     "metadata": {},
     "output_type": "execute_result"
    }
   ],
   "source": [
    "movies_df.Country.str.len().max()"
   ]
  },
  {
   "cell_type": "code",
   "execution_count": 37,
   "metadata": {},
   "outputs": [
    {
     "data": {
      "text/plain": [
       "9067      57.0\n",
       "201      115.0\n",
       "6513     104.0\n",
       "12546     54.0\n",
       "12081     75.0\n",
       "10591     77.0\n",
       "4689     120.0\n",
       "5628      99.0\n",
       "5018      85.0\n",
       "80        22.0\n",
       "4145     108.0\n",
       "15669     97.0\n",
       "10740     30.0\n",
       "99       139.0\n",
       "3703      87.0\n",
       "1080     113.0\n",
       "10516     90.0\n",
       "15261     75.0\n",
       "15712     65.0\n",
       "16702     87.0\n",
       "16650     10.0\n",
       "9511     150.0\n",
       "12315     98.0\n",
       "2513     100.0\n",
       "5991      61.0\n",
       "3399      91.0\n",
       "7965     103.0\n",
       "7217      81.0\n",
       "3305       NaN\n",
       "8491       NaN\n",
       "Name: Runtime, dtype: float64"
      ]
     },
     "execution_count": 37,
     "metadata": {},
     "output_type": "execute_result"
    }
   ],
   "source": [
    "movies_df.Runtime.sample(30)"
   ]
  },
  {
   "cell_type": "code",
   "execution_count": 17,
   "metadata": {},
   "outputs": [
    {
     "data": {
      "text/plain": [
       "1103     NaN\n",
       "14034    NaN\n",
       "12057    NaN\n",
       "12770    NaN\n",
       "7055      18\n",
       "11294    NaN\n",
       "3828      13\n",
       "11954    NaN\n",
       "16490     al\n",
       "16123    NaN\n",
       "3301     NaN\n",
       "10165      7\n",
       "15171    NaN\n",
       "9293     NaN\n",
       "3088     NaN\n",
       "14244    NaN\n",
       "9768     NaN\n",
       "6867     NaN\n",
       "5461      13\n",
       "10631     18\n",
       "6962      18\n",
       "547      NaN\n",
       "5150      18\n",
       "9779      18\n",
       "9824       7\n",
       "10913    NaN\n",
       "7719       7\n",
       "16437     al\n",
       "11832    NaN\n",
       "6624     NaN\n",
       "Name: Age, dtype: object"
      ]
     },
     "execution_count": 17,
     "metadata": {},
     "output_type": "execute_result"
    }
   ],
   "source": [
    "movies_df.Age.str.slice(0,-1).fillna(0).sample(30)"
   ]
  },
  {
   "cell_type": "code",
   "execution_count": 28,
   "metadata": {},
   "outputs": [
    {
     "data": {
      "text/plain": [
       "0        13.0\n",
       "1        18.0\n",
       "2        13.0\n",
       "3         7.0\n",
       "4        18.0\n",
       "         ... \n",
       "16739     NaN\n",
       "16740     7.0\n",
       "16741     NaN\n",
       "16742     NaN\n",
       "16743     NaN\n",
       "Name: Age, Length: 16744, dtype: float64"
      ]
     },
     "execution_count": 28,
     "metadata": {},
     "output_type": "execute_result"
    }
   ],
   "source": [
    "pd.to_numeric((movies_df.Age.replace('all', '0+')).str.slice(0, -1))"
   ]
  },
  {
   "cell_type": "code",
   "execution_count": 18,
   "metadata": {},
   "outputs": [
    {
     "data": {
      "text/html": [
       "<div>\n",
       "<style scoped>\n",
       "    .dataframe tbody tr th:only-of-type {\n",
       "        vertical-align: middle;\n",
       "    }\n",
       "\n",
       "    .dataframe tbody tr th {\n",
       "        vertical-align: top;\n",
       "    }\n",
       "\n",
       "    .dataframe thead th {\n",
       "        text-align: right;\n",
       "    }\n",
       "</style>\n",
       "<table border=\"1\" class=\"dataframe\">\n",
       "  <thead>\n",
       "    <tr style=\"text-align: right;\">\n",
       "      <th></th>\n",
       "      <th>Unnamed: 0</th>\n",
       "      <th>ID</th>\n",
       "      <th>Title</th>\n",
       "      <th>Year</th>\n",
       "      <th>Age</th>\n",
       "      <th>IMDb</th>\n",
       "      <th>Rotten Tomatoes</th>\n",
       "      <th>Netflix</th>\n",
       "      <th>Hulu</th>\n",
       "      <th>Prime Video</th>\n",
       "      <th>Disney+</th>\n",
       "      <th>Type</th>\n",
       "      <th>Directors</th>\n",
       "      <th>Genres</th>\n",
       "      <th>Country</th>\n",
       "      <th>Language</th>\n",
       "      <th>Runtime</th>\n",
       "    </tr>\n",
       "  </thead>\n",
       "  <tbody>\n",
       "    <tr>\n",
       "      <td>54</td>\n",
       "      <td>54</td>\n",
       "      <td>55</td>\n",
       "      <td>Willy Wonka &amp; the Chocolate Factory</td>\n",
       "      <td>1971</td>\n",
       "      <td>all</td>\n",
       "      <td>7.8</td>\n",
       "      <td>91%</td>\n",
       "      <td>1</td>\n",
       "      <td>0</td>\n",
       "      <td>0</td>\n",
       "      <td>0</td>\n",
       "      <td>0</td>\n",
       "      <td>Mel Stuart</td>\n",
       "      <td>Family,Fantasy,Musical</td>\n",
       "      <td>United States,East Germany,West Germany,Belgium</td>\n",
       "      <td>English,French,German,Italian</td>\n",
       "      <td>100.0</td>\n",
       "    </tr>\n",
       "    <tr>\n",
       "      <td>91</td>\n",
       "      <td>91</td>\n",
       "      <td>92</td>\n",
       "      <td>Tarzan</td>\n",
       "      <td>1999</td>\n",
       "      <td>all</td>\n",
       "      <td>7.3</td>\n",
       "      <td>89%</td>\n",
       "      <td>1</td>\n",
       "      <td>0</td>\n",
       "      <td>0</td>\n",
       "      <td>0</td>\n",
       "      <td>0</td>\n",
       "      <td>David Yates</td>\n",
       "      <td>Action,Adventure,Drama,Fantasy,Romance</td>\n",
       "      <td>United Kingdom,Canada,United States</td>\n",
       "      <td>English,Lingala,French</td>\n",
       "      <td>110.0</td>\n",
       "    </tr>\n",
       "    <tr>\n",
       "      <td>125</td>\n",
       "      <td>125</td>\n",
       "      <td>126</td>\n",
       "      <td>The Princess and the Frog</td>\n",
       "      <td>2009</td>\n",
       "      <td>all</td>\n",
       "      <td>7.1</td>\n",
       "      <td>85%</td>\n",
       "      <td>1</td>\n",
       "      <td>0</td>\n",
       "      <td>0</td>\n",
       "      <td>1</td>\n",
       "      <td>0</td>\n",
       "      <td>Ron Clements,John Musker</td>\n",
       "      <td>Animation,Adventure,Comedy,Family,Fantasy,Musi...</td>\n",
       "      <td>United States</td>\n",
       "      <td>English,French</td>\n",
       "      <td>97.0</td>\n",
       "    </tr>\n",
       "    <tr>\n",
       "      <td>133</td>\n",
       "      <td>133</td>\n",
       "      <td>134</td>\n",
       "      <td>Barfi!</td>\n",
       "      <td>2012</td>\n",
       "      <td>all</td>\n",
       "      <td>8.1</td>\n",
       "      <td>86%</td>\n",
       "      <td>1</td>\n",
       "      <td>0</td>\n",
       "      <td>0</td>\n",
       "      <td>0</td>\n",
       "      <td>0</td>\n",
       "      <td>Anurag Basu</td>\n",
       "      <td>Comedy,Drama,Romance</td>\n",
       "      <td>India</td>\n",
       "      <td>Hindi</td>\n",
       "      <td>151.0</td>\n",
       "    </tr>\n",
       "    <tr>\n",
       "      <td>151</td>\n",
       "      <td>151</td>\n",
       "      <td>152</td>\n",
       "      <td>Swades</td>\n",
       "      <td>2004</td>\n",
       "      <td>all</td>\n",
       "      <td>8.2</td>\n",
       "      <td>83%</td>\n",
       "      <td>1</td>\n",
       "      <td>0</td>\n",
       "      <td>0</td>\n",
       "      <td>0</td>\n",
       "      <td>0</td>\n",
       "      <td>Ashutosh Gowariker</td>\n",
       "      <td>Drama</td>\n",
       "      <td>India</td>\n",
       "      <td>Hindi,English</td>\n",
       "      <td>210.0</td>\n",
       "    </tr>\n",
       "    <tr>\n",
       "      <td>...</td>\n",
       "      <td>...</td>\n",
       "      <td>...</td>\n",
       "      <td>...</td>\n",
       "      <td>...</td>\n",
       "      <td>...</td>\n",
       "      <td>...</td>\n",
       "      <td>...</td>\n",
       "      <td>...</td>\n",
       "      <td>...</td>\n",
       "      <td>...</td>\n",
       "      <td>...</td>\n",
       "      <td>...</td>\n",
       "      <td>...</td>\n",
       "      <td>...</td>\n",
       "      <td>...</td>\n",
       "      <td>...</td>\n",
       "      <td>...</td>\n",
       "    </tr>\n",
       "    <tr>\n",
       "      <td>16722</td>\n",
       "      <td>16722</td>\n",
       "      <td>16723</td>\n",
       "      <td>Secrets of Life</td>\n",
       "      <td>1956</td>\n",
       "      <td>all</td>\n",
       "      <td>7.2</td>\n",
       "      <td>NaN</td>\n",
       "      <td>0</td>\n",
       "      <td>0</td>\n",
       "      <td>0</td>\n",
       "      <td>1</td>\n",
       "      <td>0</td>\n",
       "      <td>James Algar</td>\n",
       "      <td>Documentary,Family</td>\n",
       "      <td>United States</td>\n",
       "      <td>English</td>\n",
       "      <td>70.0</td>\n",
       "    </tr>\n",
       "    <tr>\n",
       "      <td>16726</td>\n",
       "      <td>16726</td>\n",
       "      <td>16727</td>\n",
       "      <td>Richie Rich's Christmas Wish</td>\n",
       "      <td>1998</td>\n",
       "      <td>all</td>\n",
       "      <td>4.1</td>\n",
       "      <td>NaN</td>\n",
       "      <td>0</td>\n",
       "      <td>0</td>\n",
       "      <td>0</td>\n",
       "      <td>1</td>\n",
       "      <td>0</td>\n",
       "      <td>John Murlowski</td>\n",
       "      <td>Comedy,Family</td>\n",
       "      <td>United States</td>\n",
       "      <td>English</td>\n",
       "      <td>84.0</td>\n",
       "    </tr>\n",
       "    <tr>\n",
       "      <td>16727</td>\n",
       "      <td>16727</td>\n",
       "      <td>16728</td>\n",
       "      <td>The Jungle Book: Mowgli's Story</td>\n",
       "      <td>1998</td>\n",
       "      <td>all</td>\n",
       "      <td>4.2</td>\n",
       "      <td>NaN</td>\n",
       "      <td>0</td>\n",
       "      <td>0</td>\n",
       "      <td>0</td>\n",
       "      <td>1</td>\n",
       "      <td>0</td>\n",
       "      <td>Nick Marck</td>\n",
       "      <td>Adventure,Family</td>\n",
       "      <td>United States</td>\n",
       "      <td>English</td>\n",
       "      <td>77.0</td>\n",
       "    </tr>\n",
       "    <tr>\n",
       "      <td>16737</td>\n",
       "      <td>16737</td>\n",
       "      <td>16738</td>\n",
       "      <td>The Bears and I</td>\n",
       "      <td>1974</td>\n",
       "      <td>all</td>\n",
       "      <td>6.2</td>\n",
       "      <td>NaN</td>\n",
       "      <td>0</td>\n",
       "      <td>0</td>\n",
       "      <td>0</td>\n",
       "      <td>1</td>\n",
       "      <td>0</td>\n",
       "      <td>Bernard McEveety</td>\n",
       "      <td>Drama,Family</td>\n",
       "      <td>United States</td>\n",
       "      <td>English</td>\n",
       "      <td>89.0</td>\n",
       "    </tr>\n",
       "    <tr>\n",
       "      <td>16738</td>\n",
       "      <td>16738</td>\n",
       "      <td>16739</td>\n",
       "      <td>Whispers: An Elephant's Tale</td>\n",
       "      <td>2000</td>\n",
       "      <td>all</td>\n",
       "      <td>5.0</td>\n",
       "      <td>NaN</td>\n",
       "      <td>0</td>\n",
       "      <td>0</td>\n",
       "      <td>0</td>\n",
       "      <td>1</td>\n",
       "      <td>0</td>\n",
       "      <td>Dereck Joubert</td>\n",
       "      <td>Adventure,Family</td>\n",
       "      <td>United States</td>\n",
       "      <td>English</td>\n",
       "      <td>72.0</td>\n",
       "    </tr>\n",
       "  </tbody>\n",
       "</table>\n",
       "<p>843 rows × 17 columns</p>\n",
       "</div>"
      ],
      "text/plain": [
       "       Unnamed: 0     ID                                Title  Year  Age  \\\n",
       "54             54     55  Willy Wonka & the Chocolate Factory  1971  all   \n",
       "91             91     92                               Tarzan  1999  all   \n",
       "125           125    126            The Princess and the Frog  2009  all   \n",
       "133           133    134                               Barfi!  2012  all   \n",
       "151           151    152                               Swades  2004  all   \n",
       "...           ...    ...                                  ...   ...  ...   \n",
       "16722       16722  16723                      Secrets of Life  1956  all   \n",
       "16726       16726  16727         Richie Rich's Christmas Wish  1998  all   \n",
       "16727       16727  16728      The Jungle Book: Mowgli's Story  1998  all   \n",
       "16737       16737  16738                      The Bears and I  1974  all   \n",
       "16738       16738  16739         Whispers: An Elephant's Tale  2000  all   \n",
       "\n",
       "       IMDb Rotten Tomatoes  Netflix  Hulu  Prime Video  Disney+  Type  \\\n",
       "54      7.8             91%        1     0            0        0     0   \n",
       "91      7.3             89%        1     0            0        0     0   \n",
       "125     7.1             85%        1     0            0        1     0   \n",
       "133     8.1             86%        1     0            0        0     0   \n",
       "151     8.2             83%        1     0            0        0     0   \n",
       "...     ...             ...      ...   ...          ...      ...   ...   \n",
       "16722   7.2             NaN        0     0            0        1     0   \n",
       "16726   4.1             NaN        0     0            0        1     0   \n",
       "16727   4.2             NaN        0     0            0        1     0   \n",
       "16737   6.2             NaN        0     0            0        1     0   \n",
       "16738   5.0             NaN        0     0            0        1     0   \n",
       "\n",
       "                      Directors  \\\n",
       "54                   Mel Stuart   \n",
       "91                  David Yates   \n",
       "125    Ron Clements,John Musker   \n",
       "133                 Anurag Basu   \n",
       "151          Ashutosh Gowariker   \n",
       "...                         ...   \n",
       "16722               James Algar   \n",
       "16726            John Murlowski   \n",
       "16727                Nick Marck   \n",
       "16737          Bernard McEveety   \n",
       "16738            Dereck Joubert   \n",
       "\n",
       "                                                  Genres  \\\n",
       "54                                Family,Fantasy,Musical   \n",
       "91                Action,Adventure,Drama,Fantasy,Romance   \n",
       "125    Animation,Adventure,Comedy,Family,Fantasy,Musi...   \n",
       "133                                 Comedy,Drama,Romance   \n",
       "151                                                Drama   \n",
       "...                                                  ...   \n",
       "16722                                 Documentary,Family   \n",
       "16726                                      Comedy,Family   \n",
       "16727                                   Adventure,Family   \n",
       "16737                                       Drama,Family   \n",
       "16738                                   Adventure,Family   \n",
       "\n",
       "                                               Country  \\\n",
       "54     United States,East Germany,West Germany,Belgium   \n",
       "91                 United Kingdom,Canada,United States   \n",
       "125                                      United States   \n",
       "133                                              India   \n",
       "151                                              India   \n",
       "...                                                ...   \n",
       "16722                                    United States   \n",
       "16726                                    United States   \n",
       "16727                                    United States   \n",
       "16737                                    United States   \n",
       "16738                                    United States   \n",
       "\n",
       "                            Language  Runtime  \n",
       "54     English,French,German,Italian    100.0  \n",
       "91            English,Lingala,French    110.0  \n",
       "125                   English,French     97.0  \n",
       "133                            Hindi    151.0  \n",
       "151                    Hindi,English    210.0  \n",
       "...                              ...      ...  \n",
       "16722                        English     70.0  \n",
       "16726                        English     84.0  \n",
       "16727                        English     77.0  \n",
       "16737                        English     89.0  \n",
       "16738                        English     72.0  \n",
       "\n",
       "[843 rows x 17 columns]"
      ]
     },
     "execution_count": 18,
     "metadata": {},
     "output_type": "execute_result"
    }
   ],
   "source": [
    "movies_df[movies_df.Age=='all']"
   ]
  }
 ],
 "metadata": {
  "kernelspec": {
   "display_name": "Python 3",
   "language": "python",
   "name": "python3"
  },
  "language_info": {
   "codemirror_mode": {
    "name": "ipython",
    "version": 3
   },
   "file_extension": ".py",
   "mimetype": "text/x-python",
   "name": "python",
   "nbconvert_exporter": "python",
   "pygments_lexer": "ipython3",
   "version": "3.7.3"
  },
  "pycharm": {
   "stem_cell": {
    "cell_type": "raw",
    "metadata": {
     "collapsed": false
    },
    "source": []
   }
  }
 },
 "nbformat": 4,
 "nbformat_minor": 1
}
